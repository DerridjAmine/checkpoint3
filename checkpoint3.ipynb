{
 "cells": [
  {
   "cell_type": "code",
   "execution_count": null,
   "id": "44b4929c",
   "metadata": {},
   "outputs": [],
   "source": [
    "#question1"
   ]
  },
  {
   "cell_type": "code",
   "execution_count": 25,
   "id": "ea223593",
   "metadata": {},
   "outputs": [
    {
     "name": "stdout",
     "output_type": "stream",
     "text": [
      "36\n"
     ]
    }
   ],
   "source": [
    "sample=[2,3,6]\n",
    "r=0\n",
    "for i in sample:\n",
    "    r=i*i\n",
    "print(r)"
   ]
  },
  {
   "cell_type": "code",
   "execution_count": null,
   "id": "7d97fdf5",
   "metadata": {},
   "outputs": [],
   "source": [
    "#question2"
   ]
  },
  {
   "cell_type": "code",
   "execution_count": 1,
   "id": "fe64c63d",
   "metadata": {},
   "outputs": [
    {
     "name": "stdout",
     "output_type": "stream",
     "text": [
      "[(1, 2), (2, 1), (2, 3), (2, 5), (4, 4)]\n"
     ]
    }
   ],
   "source": [
    "samp=[(2,5),(1,2),(4,4),(2,3),(2,1)]\n",
    "samp.sort()\n",
    "print(samp)"
   ]
  },
  {
   "cell_type": "code",
   "execution_count": 2,
   "id": "3b91c6b2",
   "metadata": {},
   "outputs": [
    {
     "name": "stdout",
     "output_type": "stream",
     "text": [
      "[(4, 4), (2, 5), (2, 3), (2, 1), (1, 2)]\n"
     ]
    }
   ],
   "source": [
    "samp=[(2,5),(1,2),(4,4),(2,3),(2,1)]\n",
    "samp.sort(reverse=True)\n",
    "print(samp)"
   ]
  },
  {
   "cell_type": "code",
   "execution_count": 75,
   "id": "55916205",
   "metadata": {},
   "outputs": [
    {
     "name": "stdout",
     "output_type": "stream",
     "text": [
      "{'a': 400, 'b': 400, 'c': 300, 'd': 400}\n"
     ]
    }
   ],
   "source": [
    "d1={\"a\":100,\"b\":200,\"c\":300}\n",
    "d2={\"a\":300,\"b\":200,\"d\":400}\n",
    "d3={}\n",
    "for k in d1:\n",
    "    if k in d2:\n",
    "        d3[k]= d1[k]+d2[k]\n",
    "    else:\n",
    "        d3[k]=d1[k]\n",
    "for k in d2:\n",
    "    if k not in d3:\n",
    "        d3[k]=d2[k]\n",
    "print(d3)\n",
    "\n",
    "    \n",
    "\n",
    "    "
   ]
  },
  {
   "cell_type": "code",
   "execution_count": 76,
   "id": "667b1800",
   "metadata": {},
   "outputs": [
    {
     "name": "stdout",
     "output_type": "stream",
     "text": [
      "{'a': 400, 'b': 400, 'c': 300, 'd': 400}\n"
     ]
    }
   ],
   "source": [
    "d1={\"a\":100,\"b\":200,\"c\":300}\n",
    "d2={\"a\":300,\"b\":200,\"d\":400}\n",
    "d3={}\n",
    "for k in d1:\n",
    "    if k in d2:\n",
    "        d3[k]= d1[k]+d2[k]\n",
    "    else:\n",
    "        d3[k]=d1[k]\n",
    "for k in d2:\n",
    "    if k in d1:\n",
    "        d3[k]= d1[k]+d2[k]\n",
    "    else:\n",
    "        d3[k]=d2[k]\n",
    "print(d3)"
   ]
  },
  {
   "cell_type": "code",
   "execution_count": 12,
   "id": "906a82c0",
   "metadata": {},
   "outputs": [
    {
     "name": "stdout",
     "output_type": "stream",
     "text": [
      "[('item3', '24.5'), ('item2', '15.10'), ('item1', '12.20')]\n"
     ]
    }
   ],
   "source": [
    "#exercice 5\n",
    "list= [('item1', '12.20'), ('item2', '15.10'), ('item3', '24.5')]\n",
    "list.sort(reverse=True)\n",
    "print(list)"
   ]
  },
  {
   "cell_type": "code",
   "execution_count": 15,
   "id": "f4cca249",
   "metadata": {},
   "outputs": [
    {
     "name": "stdout",
     "output_type": "stream",
     "text": [
      "enter a number: 5\n",
      "{1: 1, 2: 4, 3: 9, 4: 16}\n"
     ]
    }
   ],
   "source": [
    "#exercice 4\n",
    "number=int(input(\"enter a number: \"))\n",
    "dictio={}\n",
    "for i in range(1,number):\n",
    "    dictio[i]=i*i\n",
    "print(dictio)"
   ]
  },
  {
   "cell_type": "code",
   "execution_count": null,
   "id": "39dcb7e7",
   "metadata": {},
   "outputs": [],
   "source": []
  }
 ],
 "metadata": {
  "kernelspec": {
   "display_name": "Python 3 (ipykernel)",
   "language": "python",
   "name": "python3"
  },
  "language_info": {
   "codemirror_mode": {
    "name": "ipython",
    "version": 3
   },
   "file_extension": ".py",
   "mimetype": "text/x-python",
   "name": "python",
   "nbconvert_exporter": "python",
   "pygments_lexer": "ipython3",
   "version": "3.9.12"
  }
 },
 "nbformat": 4,
 "nbformat_minor": 5
}
